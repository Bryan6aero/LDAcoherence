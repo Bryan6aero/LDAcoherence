{
 "cells": [
  {
   "cell_type": "code",
   "execution_count": null,
   "metadata": {},
   "outputs": [],
   "source": [
    "import pandas as pd\n",
    "import numpy as np\n",
    "npr = pd.read_csv('InputeFast.csv')\n",
    "\n",
    "from sklearn.feature_extraction.text import CountVectorizer\n",
    "cv = CountVectorizer(max_df=0.95, min_df=2, stop_words='english')\n",
    "dtm = cv.fit_transform(npr['Article'])\n",
    "from sklearn.decomposition import LatentDirichletAllocation\n",
    "\n",
    "perp = []\n",
    "h = int(input(\"Enter the minimum number of topics.\"))\n",
    "i = h\n",
    "j = int(input(\"Enter the maximum number of topics.\"))\n",
    "while i <= j:\n",
    "    LDA = LatentDirichletAllocation(n_components=i,random_state=42)\n",
    "    i = i + 1\n",
    "    #LDA.fit(dtm[:100])\n",
    "    LDA.fit(dtm)\n",
    "    #LDAP = LDA.perplexity(dtm[100:])\n",
    "    LDAP = LDA.perplexity(dtm)\n",
    "    perp.append((float(LDAP)))\n",
    "\n",
    "\n",
    "perpres = np.vstack(perp)\n",
    "print(f'{perpres.argmin() + h} topics')\n",
    "print(f'Perplexity {round(perpres.min(),2)}')"
   ]
  }
 ],
 "metadata": {
  "kernelspec": {
   "display_name": "Python 3",
   "language": "python",
   "name": "python3"
  },
  "language_info": {
   "codemirror_mode": {
    "name": "ipython",
    "version": 3
   },
   "file_extension": ".py",
   "mimetype": "text/x-python",
   "name": "python",
   "nbconvert_exporter": "python",
   "pygments_lexer": "ipython3",
   "version": "3.7.3"
  }
 },
 "nbformat": 4,
 "nbformat_minor": 2
}
